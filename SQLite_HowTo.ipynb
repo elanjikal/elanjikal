{
  "nbformat": 4,
  "nbformat_minor": 0,
  "metadata": {
    "colab": {
      "provenance": [],
      "authorship_tag": "ABX9TyNOqTuXEREfVgZ3AZM9gKsb",
      "include_colab_link": true
    },
    "kernelspec": {
      "name": "python3",
      "display_name": "Python 3"
    },
    "language_info": {
      "name": "python"
    }
  },
  "cells": [
    {
      "cell_type": "markdown",
      "metadata": {
        "id": "view-in-github",
        "colab_type": "text"
      },
      "source": [
        "<a href=\"https://colab.research.google.com/github/elanjikal/elanjikal/blob/main/SQLite_HowTo.ipynb\" target=\"_parent\"><img src=\"https://colab.research.google.com/assets/colab-badge.svg\" alt=\"Open In Colab\"/></a>"
      ]
    },
    {
      "cell_type": "markdown",
      "source": [
        "https://datasciencity.com/2020/12/04/how-to-use-sqlite-database-on-google-colab/\n",
        "\n",
        "\n",
        "How to use the SQLite database on Google Colab. SQLite is already installed in Colab. In this example, we will create a database and work on some queries. "
      ],
      "metadata": {
        "id": "YabahK3D3bE1"
      }
    },
    {
      "cell_type": "code",
      "execution_count": 1,
      "metadata": {
        "colab": {
          "base_uri": "https://localhost:8080/"
        },
        "id": "Alq_TjiH2qeR",
        "outputId": "20081d28-3543-418f-f7d8-77330b8d9349"
      },
      "outputs": [
        {
          "output_type": "stream",
          "name": "stdout",
          "text": [
            "Departments table created\n",
            "Employees table created\n"
          ]
        }
      ],
      "source": [
        "import sqlite3\n",
        " \n",
        "conn = sqlite3.connect('test.db')\n",
        " \n",
        "conn.execute('''\n",
        "CREATE TABLE Departments (\n",
        "   Code INTEGER PRIMARY KEY NOT NULL,\n",
        "   Name NVARCHAR NOT NULL ,\n",
        "   Budget REAL NOT NULL \n",
        " );''')\n",
        " \n",
        "conn.commit()\n",
        " \n",
        "print(\"Departments table created\");\n",
        " \n",
        "conn.execute('''\n",
        "CREATE TABLE Employees (\n",
        "   SSN INTEGER PRIMARY KEY NOT NULL,\n",
        "   Name TEXT NOT NULL ,\n",
        "   LastName VARCHAR NOT NULL ,\n",
        "   Department INTEGER NOT NULL ,\n",
        "   Salary INTEGER NOT NULL,\n",
        "   CONSTRAINT fk_Departments_Code FOREIGN KEY(Department) \n",
        "   REFERENCES Departments(Code)\n",
        " );''')\n",
        " \n",
        "conn.commit()\n",
        " \n",
        "print(\"Employees table created\");"
      ]
    },
    {
      "cell_type": "code",
      "source": [
        "# Inserting data to Departments table\n",
        "conn.execute(\"INSERT INTO Departments(Code,Name,Budget) VALUES(14,'IT',65000);\")\n",
        "conn.execute(\"INSERT INTO Departments(Code,Name,Budget) VALUES(37,'Accounting',15000);\")\n",
        "conn.execute(\"INSERT INTO Departments(Code,Name,Budget) VALUES(59,'Human Resources',240000);\")\n",
        "conn.execute(\"INSERT INTO Departments(Code,Name,Budget) VALUES(77,'Research',55000);\")\n",
        " \n",
        "# Inserting data to Employees table\n",
        "conn.execute(\"INSERT INTO Employees(SSN,Name,LastName,Department,Salary) VALUES('123234877','Michael','Rogers',14,100);\")\n",
        "conn.execute(\"INSERT INTO Employees(SSN,Name,LastName,Department,Salary) VALUES('152934485','Anand','Manikutty',14,300);\")\n",
        "conn.execute(\" INSERT INTO Employees(SSN,Name,LastName,Department,Salary) VALUES('222364883','Carol','Smith',37,200); \")\n",
        "conn.execute(\" INSERT INTO Employees(SSN,Name,LastName,Department,Salary) VALUES('326587417','Joe','Stevens',37,150); \")\n",
        "conn.execute(\" INSERT INTO Employees(SSN,Name,LastName,Department,Salary) VALUES('332154719','Mary-Anne','Foster',14,500);\")\n",
        "conn.execute(\" INSERT INTO Employees(SSN,Name,LastName,Department,Salary) VALUES('332569843','George','O''Donnell',77,140);\")\n",
        "conn.execute(\" INSERT INTO Employees(SSN,Name,LastName,Department,Salary) VALUES('546523478','John','Doe',59,80);\")\n",
        "conn.execute(\"INSERT INTO Employees(SSN,Name,LastName,Department,Salary) VALUES('631231482','David','Smith',77,90);\")\n",
        "conn.execute(\" INSERT INTO Employees(SSN,Name,LastName,Department,Salary) VALUES('654873219','Zacary','Efron',59,600);\")\n",
        "conn.execute(\" INSERT INTO Employees(SSN,Name,LastName,Department,Salary) VALUES('745685214','Eric','Goldsmith',59,130);\")\n",
        "conn.execute(\" INSERT INTO Employees(SSN,Name,LastName,Department,Salary) VALUES('845657245','Elizabeth','Doe',14,120);\")\n",
        "conn.execute(\" INSERT INTO Employees(SSN,Name,LastName,Department,Salary) VALUES('845657246','Kumar','Swamy',14,50);\")\n",
        "conn.commit()"
      ],
      "metadata": {
        "id": "xopUpAqH21_S"
      },
      "execution_count": 2,
      "outputs": []
    },
    {
      "cell_type": "code",
      "source": [
        "# simple test queries\n",
        "conn = sqlite3.connect('test.db')\n",
        "cursor = conn.execute(''' SELECT * FROM Departments ''')\n",
        "for row in cursor:\n",
        "  print(row)"
      ],
      "metadata": {
        "colab": {
          "base_uri": "https://localhost:8080/"
        },
        "id": "GVex6LFS3IAs",
        "outputId": "9ea892e0-674f-4a36-e544-b6e4b6238776"
      },
      "execution_count": 3,
      "outputs": [
        {
          "output_type": "stream",
          "name": "stdout",
          "text": [
            "(14, 'IT', 65000.0)\n",
            "(37, 'Accounting', 15000.0)\n",
            "(59, 'Human Resources', 240000.0)\n",
            "(77, 'Research', 55000.0)\n"
          ]
        }
      ]
    },
    {
      "cell_type": "code",
      "source": [
        "# simple test queries\n",
        "conn = sqlite3.connect('test.db')\n",
        "cursor = conn.execute(''' SELECT * FROM Departments ''')\n",
        "for row in cursor:\n",
        "  print(row)"
      ],
      "metadata": {
        "id": "DNGnARjV3K1_"
      },
      "execution_count": null,
      "outputs": []
    },
    {
      "cell_type": "code",
      "source": [
        "# close the connection\n",
        "conn.close()"
      ],
      "metadata": {
        "id": "sF3zJcxL3Qs2"
      },
      "execution_count": null,
      "outputs": []
    }
  ]
}